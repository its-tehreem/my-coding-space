{
  "nbformat": 4,
  "nbformat_minor": 0,
  "metadata": {
    "colab": {
      "provenance": []
    },
    "kernelspec": {
      "name": "python3",
      "display_name": "Python 3"
    },
    "language_info": {
      "name": "python"
    }
  },
  "cells": [
    {
      "cell_type": "code",
      "execution_count": 1,
      "metadata": {
        "colab": {
          "base_uri": "https://localhost:8080/"
        },
        "id": "b3MaOn_qcvy-",
        "outputId": "47a1865d-a7d8-4690-a744-b7a2d0eaa55a"
      },
      "outputs": [
        {
          "output_type": "stream",
          "name": "stdout",
          "text": [
            "Set length: 2\n",
            "Set elements: [1, 2]\n"
          ]
        }
      ],
      "source": [
        "# Q1: Experiment with adding objects that support custom __hash__ and __eq__ to a set\n",
        "\n",
        "class MyObj:\n",
        "    def __init__(self, value):\n",
        "        self.value = value\n",
        "\n",
        "    def __hash__(self):\n",
        "        # Force collision by returning same hash\n",
        "        return 42\n",
        "\n",
        "    def __eq__(self, other):\n",
        "        return self.value == other.value\n",
        "\n",
        "a = MyObj(1)\n",
        "b = MyObj(2)\n",
        "\n",
        "s = {a, b}\n",
        "print(\"Set length:\", len(s))\n",
        "print(\"Set elements:\", [obj.value for obj in s])\n"
      ]
    },
    {
      "cell_type": "code",
      "source": [
        "# Q2: Compare memory usage of sets with different numbers of elements\n",
        "\n",
        "import sys\n",
        "\n",
        "s1 = set(range(10))\n",
        "s2 = set(range(1000))\n",
        "s3 = set(range(100000))\n",
        "\n",
        "print(\"Size of 10 elements:\", sys.getsizeof(s1), \"bytes\")\n",
        "print(\"Size of 1000 elements:\", sys.getsizeof(s2), \"bytes\")\n",
        "print(\"Size of 100000 elements:\", sys.getsizeof(s3), \"bytes\")\n"
      ],
      "metadata": {
        "colab": {
          "base_uri": "https://localhost:8080/"
        },
        "id": "TbSvATjcdd7F",
        "outputId": "ad116a16-0f59-4ad3-b60a-2d3f851c5ae6"
      },
      "execution_count": 3,
      "outputs": [
        {
          "output_type": "stream",
          "name": "stdout",
          "text": [
            "Size of 10 elements: 728 bytes\n",
            "Size of 1000 elements: 32984 bytes\n",
            "Size of 100000 elements: 4194520 bytes\n"
          ]
        }
      ]
    },
    {
      "cell_type": "code",
      "source": [
        "# Q3: Demonstrate how modifying a set’s mutable item (tuple with mutable object)\n",
        "\n",
        "mutable_list = [1, 2]\n",
        "try:\n",
        "    s = {(mutable_list,)}\n",
        "    print(\"Set:\", s)\n",
        "except TypeError as e:\n",
        "    print(\"Error:\", e)\n",
        "\n",
        "# Immutable tuple works fine\n",
        "t = (1, 2)\n",
        "s2 = {t}\n",
        "print(\"Set with immutable tuple:\", s2)\n",
        "\n",
        "# Trying to modify tuple\n",
        "try:\n",
        "    t[0] = 99\n",
        "except TypeError as e:\n",
        "    print(\"Error:\", e)\n"
      ],
      "metadata": {
        "colab": {
          "base_uri": "https://localhost:8080/"
        },
        "id": "LHFVi27AfDCd",
        "outputId": "678eabcf-77b3-46fe-e61a-c7ad6046c6ae"
      },
      "execution_count": 8,
      "outputs": [
        {
          "output_type": "stream",
          "name": "stdout",
          "text": [
            "Error: unhashable type: 'list'\n",
            "Set with immutable tuple: {(1, 2)}\n",
            "Error: 'tuple' object does not support item assignment\n"
          ]
        }
      ]
    },
    {
      "cell_type": "code",
      "source": [
        "# Q4: Check Python hash consistency across sessions\n",
        "\n",
        "text = \"python\"\n",
        "print(\"Hash now:\", hash(text))\n"
      ],
      "metadata": {
        "colab": {
          "base_uri": "https://localhost:8080/"
        },
        "id": "cX0t3K1ffbbX",
        "outputId": "df68b5bf-5047-4201-d0f8-e23ab3f4182f"
      },
      "execution_count": 10,
      "outputs": [
        {
          "output_type": "stream",
          "name": "stdout",
          "text": [
            "Hash now: 7357142949968469301\n"
          ]
        }
      ]
    },
    {
      "cell_type": "code",
      "source": [
        "# Q5: Trigger garbage collection manually\n",
        "\n",
        "import gc\n",
        "\n",
        "s = set(range(1000000))  # large set\n",
        "print(\"Created large set\")\n",
        "\n",
        "del s  # delete set\n",
        "print(\"Deleted large set\")\n",
        "\n",
        "gc.collect()  # force GC\n",
        "print(\"Garbage collection triggered\")\n"
      ],
      "metadata": {
        "colab": {
          "base_uri": "https://localhost:8080/"
        },
        "id": "g03cKRVkftgs",
        "outputId": "d523b370-03fb-4f7e-95b7-0c80b310f430"
      },
      "execution_count": 11,
      "outputs": [
        {
          "output_type": "stream",
          "name": "stdout",
          "text": [
            "Created large set\n",
            "Deleted large set\n",
            "Garbage collection triggered\n"
          ]
        }
      ]
    },
    {
      "cell_type": "code",
      "source": [
        "# Q6: Using weakref.WeakSet\n",
        "\n",
        "import weakref\n",
        "\n",
        "class Data:\n",
        "    pass\n",
        "\n",
        "obj1 = Data()\n",
        "obj2 = Data()\n",
        "\n",
        "ws = weakref.WeakSet([obj1, obj2])\n",
        "print(\"Before deletion:\", list(ws))\n",
        "\n",
        "del obj1\n",
        "print(\"After deleting obj1:\", list(ws))\n"
      ],
      "metadata": {
        "colab": {
          "base_uri": "https://localhost:8080/"
        },
        "id": "wSOFfS9Qf00-",
        "outputId": "e6316e54-75a4-464a-e157-9b97390420a6"
      },
      "execution_count": 12,
      "outputs": [
        {
          "output_type": "stream",
          "name": "stdout",
          "text": [
            "Before deletion: [<__main__.Data object at 0x79c18c3bb740>, <__main__.Data object at 0x79c17b9844d0>]\n",
            "After deleting obj1: [<__main__.Data object at 0x79c17b9844d0>]\n"
          ]
        }
      ]
    },
    {
      "cell_type": "code",
      "source": [
        "# Q7: Frozenset as dictionary key\n",
        "\n",
        "d = {}\n",
        "fs = frozenset([1, 2, 3])\n",
        "\n",
        "d[fs] = \"Valid key\"\n",
        "print(\"Dictionary with frozenset:\", d)\n",
        "\n",
        "# Normal set as key → will raise error\n",
        "try:\n",
        "    d[set([1, 2, 3])] = \"Invalid key\"\n",
        "except TypeError as e:\n",
        "    print(\"Error:\", e)\n"
      ],
      "metadata": {
        "colab": {
          "base_uri": "https://localhost:8080/"
        },
        "id": "ORe2G2Xbf_8y",
        "outputId": "c414fd6f-d5f0-4b31-9633-6b4fc7bbd468"
      },
      "execution_count": 13,
      "outputs": [
        {
          "output_type": "stream",
          "name": "stdout",
          "text": [
            "Dictionary with frozenset: {frozenset({1, 2, 3}): 'Valid key'}\n",
            "Error: unhashable type: 'set'\n"
          ]
        }
      ]
    },
    {
      "cell_type": "code",
      "source": [
        "# Q8: Compare lookup time\n",
        "\n",
        "import time\n",
        "\n",
        "N = 1000000\n",
        "nums_list = list(range(N))\n",
        "nums_set = set(range(N))\n",
        "\n",
        "x = N - 1\n",
        "\n",
        "# Lookup in list\n",
        "start = time.time()\n",
        "print(x in nums_list)\n",
        "end = time.time()\n",
        "print(\"List lookup time:\", end - start)\n",
        "\n",
        "# Lookup in set\n",
        "start = time.time()\n",
        "print(x in nums_set)\n",
        "end = time.time()\n",
        "print(\"Set lookup time:\", end - start)\n"
      ],
      "metadata": {
        "colab": {
          "base_uri": "https://localhost:8080/"
        },
        "id": "tUKxXBBDgEo4",
        "outputId": "c60f92c1-e433-4764-ad03-bea8f932836b"
      },
      "execution_count": 14,
      "outputs": [
        {
          "output_type": "stream",
          "name": "stdout",
          "text": [
            "True\n",
            "List lookup time: 0.014317035675048828\n",
            "True\n",
            "Set lookup time: 8.153915405273438e-05\n"
          ]
        }
      ]
    },
    {
      "cell_type": "code",
      "source": [
        "# Q9: Count number of set objects in memory\n",
        "\n",
        "objs = gc.get_objects()\n",
        "sets_in_memory = [obj for obj in objs if isinstance(obj, set)]\n",
        "print(\"Total sets in memory:\", len(sets_in_memory))\n"
      ],
      "metadata": {
        "colab": {
          "base_uri": "https://localhost:8080/"
        },
        "id": "YKBLDLuvgWbd",
        "outputId": "5eb16125-67ca-4b84-9c6f-674aed74d3fc"
      },
      "execution_count": 15,
      "outputs": [
        {
          "output_type": "stream",
          "name": "stdout",
          "text": [
            "Total sets in memory: 1446\n"
          ]
        }
      ]
    },
    {
      "cell_type": "code",
      "source": [
        "# Q10: Benchmark creation speeds of containers\n",
        "\n",
        "import timeit\n",
        "\n",
        "print(\"List creation:\", timeit.timeit(\"list(range(1000))\", number=10000))\n",
        "print(\"Tuple creation:\", timeit.timeit(\"tuple(range(1000))\", number=10000))\n",
        "print(\"Set creation:\", timeit.timeit(\"set(range(1000))\", number=10000))\n",
        "print(\"Frozenset creation:\", timeit.timeit(\"frozenset(range(1000))\", number=10000))\n"
      ],
      "metadata": {
        "colab": {
          "base_uri": "https://localhost:8080/"
        },
        "id": "-kJUaWaogfKx",
        "outputId": "41451a40-894c-492a-831d-ed11ed37edf3"
      },
      "execution_count": 16,
      "outputs": [
        {
          "output_type": "stream",
          "name": "stdout",
          "text": [
            "List creation: 0.1723805330000232\n",
            "Tuple creation: 0.19686885700002676\n",
            "Set creation: 0.2753012379999973\n",
            "Frozenset creation: 0.2729377899999008\n"
          ]
        }
      ]
    }
  ]
}