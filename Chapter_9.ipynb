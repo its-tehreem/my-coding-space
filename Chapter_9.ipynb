{
  "nbformat": 4,
  "nbformat_minor": 0,
  "metadata": {
    "colab": {
      "provenance": []
    },
    "kernelspec": {
      "name": "python3",
      "display_name": "Python 3"
    },
    "language_info": {
      "name": "python"
    }
  },
  "cells": [
    {
      "cell_type": "code",
      "execution_count": 5,
      "metadata": {
        "colab": {
          "base_uri": "https://localhost:8080/"
        },
        "id": "jcBmuEUWjaaC",
        "outputId": "cbc67b1b-1141-46fa-a7af-e88ebd31b681"
      },
      "outputs": [
        {
          "output_type": "stream",
          "name": "stdout",
          "text": [
            "square root of 16 4.0\n",
            "value of pi 3.141592653589793\n"
          ]
        }
      ],
      "source": [
        "import math\n",
        "print(\"square root of 16\",math.sqrt(16))\n",
        "print(\"value of pi\",math.pi)"
      ]
    },
    {
      "cell_type": "code",
      "source": [
        "def greet(name):\n",
        "    return f\"Hello,{name}!\"\n",
        "print(greet(\"Alice\"))"
      ],
      "metadata": {
        "colab": {
          "base_uri": "https://localhost:8080/"
        },
        "id": "m_d2uVUclQwz",
        "outputId": "ed6964a4-3eb4-470a-b18d-b9961f45dba7"
      },
      "execution_count": 8,
      "outputs": [
        {
          "output_type": "stream",
          "name": "stdout",
          "text": [
            "Hello,Alice!\n"
          ]
        }
      ]
    },
    {
      "cell_type": "code",
      "source": [
        "def add (a,b):\n",
        "   return (a+b)\n",
        "print(\"sum\",add(5,7))"
      ],
      "metadata": {
        "colab": {
          "base_uri": "https://localhost:8080/"
        },
        "id": "6GoMySe0nNfB",
        "outputId": "4213acd7-4509-40b3-b122-03690c4680c6"
      },
      "execution_count": 12,
      "outputs": [
        {
          "output_type": "stream",
          "name": "stdout",
          "text": [
            "sum 12\n"
          ]
        }
      ]
    },
    {
      "cell_type": "code",
      "source": [
        "def is_even(n):\n",
        "    return n % 2 == 0\n",
        "print(is_even(10), is_even(10))\n",
        "print(is_even(7), is_even(7))"
      ],
      "metadata": {
        "colab": {
          "base_uri": "https://localhost:8080/"
        },
        "id": "laN1Bhr9nK0g",
        "outputId": "2de3e459-a28e-4f49-afb5-b4e8878e951f"
      },
      "execution_count": 15,
      "outputs": [
        {
          "output_type": "stream",
          "name": "stdout",
          "text": [
            "True True\n",
            "False False\n"
          ]
        }
      ]
    },
    {
      "cell_type": "code",
      "source": [
        "import random\n",
        "fruits=[\"apple\" , \"banana\" , \"mango\" ]\n",
        "print((\"random fruits\"),random.choice(fruits))"
      ],
      "metadata": {
        "colab": {
          "base_uri": "https://localhost:8080/"
        },
        "id": "7sr0g8Xzo509",
        "outputId": "043f7058-a18d-4074-b93f-17987177a120"
      },
      "execution_count": 17,
      "outputs": [
        {
          "output_type": "stream",
          "name": "stdout",
          "text": [
            "random fruits mango\n"
          ]
        }
      ]
    },
    {
      "cell_type": "code",
      "source": [
        "def multiply_list(lst, factor):\n",
        "    result = []\n",
        "    for num in lst:\n",
        "        result.append(num * factor)\n",
        "    return result\n",
        "print(\"multiply_list\", multiply_list([1,2,3],2))"
      ],
      "metadata": {
        "colab": {
          "base_uri": "https://localhost:8080/"
        },
        "id": "l1efHACOpj0X",
        "outputId": "514149a3-7bb1-4b71-e815-86ba81dce943"
      },
      "execution_count": 22,
      "outputs": [
        {
          "output_type": "stream",
          "name": "stdout",
          "text": [
            "multiply_list [2, 4, 6]\n"
          ]
        }
      ]
    },
    {
      "cell_type": "code",
      "source": [
        "def length_info(x):\n",
        "  return f\"Length is {len(x)}\"\n",
        "print(length_info(\"hello\"))\n",
        "print(length_info(\"python\"))"
      ],
      "metadata": {
        "colab": {
          "base_uri": "https://localhost:8080/"
        },
        "id": "IogLVnDlq9xh",
        "outputId": "d6133c52-7d0f-4ae3-be0e-f9c5a2c0e75e"
      },
      "execution_count": 24,
      "outputs": [
        {
          "output_type": "stream",
          "name": "stdout",
          "text": [
            "Length is 5\n",
            "Length is 6\n"
          ]
        }
      ]
    },
    {
      "cell_type": "code",
      "source": [
        "def square(x):\n",
        "  return x * x\n",
        "print(square(5))"
      ],
      "metadata": {
        "colab": {
          "base_uri": "https://localhost:8080/"
        },
        "id": "e5kZtxWOsIeD",
        "outputId": "085611b5-6fb9-4e3f-c929-1eedd853c026"
      },
      "execution_count": 29,
      "outputs": [
        {
          "output_type": "stream",
          "name": "stdout",
          "text": [
            "25\n"
          ]
        }
      ]
    },
    {
      "cell_type": "code",
      "source": [
        "def circle_area(radius):\n",
        "    return math.pi * radius ** 2\n",
        "print(circle_area(5))"
      ],
      "metadata": {
        "colab": {
          "base_uri": "https://localhost:8080/"
        },
        "id": "2UUuhNbhr_g8",
        "outputId": "8e59a4f2-e62c-41fe-c171-95fbd696579e"
      },
      "execution_count": 30,
      "outputs": [
        {
          "output_type": "stream",
          "name": "stdout",
          "text": [
            "78.53981633974483\n"
          ]
        }
      ]
    },
    {
      "cell_type": "code",
      "source": [
        "def introduce(name, age):\n",
        "    return f\"My name is {name} and I am {age} years old.\"\n",
        "print(introduce(\"Alice\", 25))"
      ],
      "metadata": {
        "colab": {
          "base_uri": "https://localhost:8080/"
        },
        "id": "bdRtS7-hs80J",
        "outputId": "ac2fd535-4e48-4819-c95f-8d3caf2525bd"
      },
      "execution_count": 32,
      "outputs": [
        {
          "output_type": "stream",
          "name": "stdout",
          "text": [
            "My name is Alice and I am 25 years old.\n"
          ]
        }
      ]
    }
  ]
}