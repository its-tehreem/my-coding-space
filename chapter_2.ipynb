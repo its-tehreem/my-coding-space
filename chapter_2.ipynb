{
  "nbformat": 4,
  "nbformat_minor": 0,
  "metadata": {
    "colab": {
      "provenance": []
    },
    "kernelspec": {
      "name": "python3",
      "display_name": "Python 3"
    },
    "language_info": {
      "name": "python"
    }
  },
  "cells": [
    {
      "cell_type": "markdown",
      "source": [
        "1: Create variables of types:string,integer,float,and boolean.Print their values and types?"
      ],
      "metadata": {
        "id": "tNuQ_VQwK8IA"
      }
    },
    {
      "cell_type": "code",
      "source": [
        "name=\"tehreem\"\n",
        "age=20\n",
        "height=5.3\n",
        "is_student=True\n",
        "print(name,type(name))\n",
        "print(age,type(age))\n",
        "print(height,type(height))\n",
        "print(is_student,type(is_student))"
      ],
      "metadata": {
        "colab": {
          "base_uri": "https://localhost:8080/"
        },
        "id": "yVEpkLUgLeXW",
        "outputId": "43309b1b-926c-4400-f1b6-cf52c967e4fd"
      },
      "execution_count": null,
      "outputs": [
        {
          "output_type": "stream",
          "name": "stdout",
          "text": [
            "tehreem <class 'str'>\n",
            "20 <class 'int'>\n",
            "5.3 <class 'float'>\n",
            "True <class 'bool'>\n"
          ]
        }
      ]
    },
    {
      "cell_type": "code",
      "source": [
        "a=0.13\n",
        "b=0.12\n",
        "c=0.55\n",
        "average(a+b+c)/3\n",
        "print(average)"
      ],
      "metadata": {
        "colab": {
          "base_uri": "https://localhost:8080/",
          "height": 193
        },
        "id": "LQMYwYHexby3",
        "outputId": "b7d77a27-5c94-4cfa-e61d-0ca5a68b5e81"
      },
      "execution_count": null,
      "outputs": [
        {
          "output_type": "error",
          "ename": "NameError",
          "evalue": "name 'average' is not defined",
          "traceback": [
            "\u001b[0;31m---------------------------------------------------------------------------\u001b[0m",
            "\u001b[0;31mNameError\u001b[0m                                 Traceback (most recent call last)",
            "\u001b[0;32m/tmp/ipython-input-3-3079646749.py\u001b[0m in \u001b[0;36m<cell line: 0>\u001b[0;34m()\u001b[0m\n\u001b[1;32m      2\u001b[0m \u001b[0mb\u001b[0m\u001b[0;34m=\u001b[0m\u001b[0;36m0.12\u001b[0m\u001b[0;34m\u001b[0m\u001b[0;34m\u001b[0m\u001b[0m\n\u001b[1;32m      3\u001b[0m \u001b[0mc\u001b[0m\u001b[0;34m=\u001b[0m\u001b[0;36m0.55\u001b[0m\u001b[0;34m\u001b[0m\u001b[0;34m\u001b[0m\u001b[0m\n\u001b[0;32m----> 4\u001b[0;31m \u001b[0maverage\u001b[0m\u001b[0;34m(\u001b[0m\u001b[0ma\u001b[0m\u001b[0;34m+\u001b[0m\u001b[0mb\u001b[0m\u001b[0;34m+\u001b[0m\u001b[0mc\u001b[0m\u001b[0;34m)\u001b[0m\u001b[0;34m/\u001b[0m\u001b[0;36m3\u001b[0m\u001b[0;34m\u001b[0m\u001b[0;34m\u001b[0m\u001b[0m\n\u001b[0m\u001b[1;32m      5\u001b[0m \u001b[0mprint\u001b[0m\u001b[0;34m(\u001b[0m\u001b[0maverage\u001b[0m\u001b[0;34m)\u001b[0m\u001b[0;34m\u001b[0m\u001b[0;34m\u001b[0m\u001b[0m\n",
            "\u001b[0;31mNameError\u001b[0m: name 'average' is not defined"
          ]
        }
      ]
    },
    {
      "cell_type": "markdown",
      "source": [
        "2:Make a list of five fruit and print it?"
      ],
      "metadata": {
        "id": "B1kGE2fIM0Qk"
      }
    },
    {
      "cell_type": "code",
      "execution_count": null,
      "metadata": {
        "colab": {
          "base_uri": "https://localhost:8080/"
        },
        "id": "flB3CZnnK6Bl",
        "outputId": "89a28958-8997-4145-ce20-5d86db2c0892"
      },
      "outputs": [
        {
          "output_type": "stream",
          "name": "stdout",
          "text": [
            "('apple', 'pear', 'mango', 'orange', 'grapes')\n"
          ]
        }
      ],
      "source": [
        "fruits=\"apple\", \"pear\", \"mango\",  \"orange\", \"grapes\"\n",
        "print(fruits)"
      ]
    },
    {
      "cell_type": "markdown",
      "source": [
        "3:Create a tuple of 3 favorite numbers and print?"
      ],
      "metadata": {
        "id": "UXcnyd2LNuJp"
      }
    },
    {
      "cell_type": "code",
      "source": [
        "favorit_number=(11,22,33)\n",
        "print(favorit_number)"
      ],
      "metadata": {
        "colab": {
          "base_uri": "https://localhost:8080/"
        },
        "id": "MWihbWrzPCZL",
        "outputId": "d5d4e91b-7531-4677-f348-36ee7e7511a3"
      },
      "execution_count": null,
      "outputs": [
        {
          "output_type": "stream",
          "name": "stdout",
          "text": [
            "(11, 22, 33)\n"
          ]
        }
      ]
    },
    {
      "cell_type": "markdown",
      "source": [
        "4:Define a dictionary with keys:name, age, city-and  print all key-value pair?"
      ],
      "metadata": {
        "id": "sg1z6emHPWWB"
      }
    },
    {
      "cell_type": "code",
      "source": [
        "person={\n",
        "    \"name\":\"tehreem\",\n",
        "    \"age\":\"20\",\n",
        "    \"city\":\"gujranwala\"\n",
        "}\n",
        "print(person)"
      ],
      "metadata": {
        "colab": {
          "base_uri": "https://localhost:8080/"
        },
        "id": "DpYv2NlUPtOM",
        "outputId": "f28bce23-d7fb-4d28-9100-62f38ba6382f"
      },
      "execution_count": null,
      "outputs": [
        {
          "output_type": "stream",
          "name": "stdout",
          "text": [
            "{'name': 'tehreem', 'age': '20', 'city': 'gujranwala'}\n"
          ]
        }
      ]
    },
    {
      "cell_type": "markdown",
      "source": [
        "5:Create a set of unique hobbies?"
      ],
      "metadata": {
        "id": "PfzpuwvJQp_M"
      }
    },
    {
      "cell_type": "code",
      "source": [
        "fav_hobby=(\"reading\",\"cooking\",\"painting\")\n",
        "print(fav_hobby)"
      ],
      "metadata": {
        "colab": {
          "base_uri": "https://localhost:8080/"
        },
        "id": "rvKUiVZ_QynQ",
        "outputId": "747288e6-372f-4759-c618-26f02ace4325"
      },
      "execution_count": null,
      "outputs": [
        {
          "output_type": "stream",
          "name": "stdout",
          "text": [
            "('reading', 'cooking', 'painting')\n"
          ]
        }
      ]
    },
    {
      "cell_type": "markdown",
      "source": [
        "6:Make a list of 5 students name and print it?"
      ],
      "metadata": {
        "id": "NJHQkbJcRKj2"
      }
    },
    {
      "cell_type": "code",
      "source": [
        "students=[\"hira\",\"mirha\",\"irha\",\"anaya\",\"alice\"]\n",
        "print(students)"
      ],
      "metadata": {
        "colab": {
          "base_uri": "https://localhost:8080/"
        },
        "id": "uM5_cknXRZ0J",
        "outputId": "89581482-b2a0-45c1-fc22-0fd72c7168f4"
      },
      "execution_count": null,
      "outputs": [
        {
          "output_type": "stream",
          "name": "stdout",
          "text": [
            "['hira', 'mirha', 'irha', 'anaya', 'alice']\n"
          ]
        }
      ]
    },
    {
      "cell_type": "code",
      "source": [
        "stu_1=\"hira\"\n",
        "stu_2=\"mirha\"\n",
        "stu_3=\"irha\"\n",
        "stu_4=\"anaya\"\n",
        "stu_5=\"alice\"\n",
        "print(stu_1,stu_2,stu_3,stu_4,stu_5)"
      ],
      "metadata": {
        "colab": {
          "base_uri": "https://localhost:8080/"
        },
        "id": "OaCWWINdSjrK",
        "outputId": "bccc0832-7cf5-4379-af41-b637e267025b"
      },
      "execution_count": null,
      "outputs": [
        {
          "output_type": "stream",
          "name": "stdout",
          "text": [
            "hira mirha irha anaya alice\n"
          ]
        }
      ]
    },
    {
      "cell_type": "markdown",
      "source": [
        "7:Create a dictionary of 3 programming languages with their creators and print them?"
      ],
      "metadata": {
        "id": "yX7v6oBjUWir"
      }
    },
    {
      "cell_type": "code",
      "source": [
        "languages={\n",
        "    \"python\":\"Guido van rossum\"\n",
        "    \"java\" \"james golisng\"\n",
        "    \"c++\" \"bajarne stroustrup\"\n",
        "}\n",
        "print(languages)"
      ],
      "metadata": {
        "colab": {
          "base_uri": "https://localhost:8080/"
        },
        "id": "mxo18iE5S15O",
        "outputId": "f1e2567d-b92b-4aba-aade-bf7a24b8506e"
      },
      "execution_count": null,
      "outputs": [
        {
          "output_type": "stream",
          "name": "stdout",
          "text": [
            "{'python': 'Guido van rossumjavajames golisngc++bajarne stroustrup'}\n"
          ]
        }
      ]
    },
    {
      "cell_type": "markdown",
      "source": [
        "8:Store 3 float numbers and calculate their average?"
      ],
      "metadata": {
        "id": "fjROpMNiWidG"
      }
    },
    {
      "cell_type": "code",
      "source": [
        "num1=1.1\n",
        "num2=2.2\n",
        "num3=3.3\n",
        "average=(num1+num2+num3)\n",
        "print(\"average is\",average)"
      ],
      "metadata": {
        "colab": {
          "base_uri": "https://localhost:8080/"
        },
        "id": "d2UAJa9mWvg_",
        "outputId": "b0f7bea2-6844-4fc4-f96d-9943548c314e"
      },
      "execution_count": null,
      "outputs": [
        {
          "output_type": "stream",
          "name": "stdout",
          "text": [
            "average is 6.6\n"
          ]
        }
      ]
    },
    {
      "cell_type": "markdown",
      "source": [
        "9:Create a tuple of 4 cities?"
      ],
      "metadata": {
        "id": "Pi9wjI47vzZz"
      }
    },
    {
      "cell_type": "code",
      "source": [
        "cities=([\"karachi\",\"lahore\",\"gujranwala\",\"multan\"])\n",
        "print(\"cities tuple\",cities)"
      ],
      "metadata": {
        "colab": {
          "base_uri": "https://localhost:8080/"
        },
        "id": "TW9IPoQqwAD0",
        "outputId": "a2acb034-ab99-461d-cd3f-2adeafdf2bf3"
      },
      "execution_count": null,
      "outputs": [
        {
          "output_type": "stream",
          "name": "stdout",
          "text": [
            "cities tuple ['karachi', 'lahore', 'gujranwala', 'multan']\n"
          ]
        }
      ]
    },
    {
      "cell_type": "markdown",
      "source": [
        "Make a set of vowel in a string and print?"
      ],
      "metadata": {
        "id": "lxs8Hy16wBAI"
      }
    },
    {
      "cell_type": "code",
      "source": [
        "word=(\"pakistan\")\n",
        "vowels=set([ch for ch in word if ch in 'aeiou'])\n",
        "print(\"vowels\",vowels)"
      ],
      "metadata": {
        "colab": {
          "base_uri": "https://localhost:8080/"
        },
        "id": "ZGhPxxw6wNTI",
        "outputId": "79cabbf0-ebd8-4774-b564-b70169f873d7"
      },
      "execution_count": null,
      "outputs": [
        {
          "output_type": "stream",
          "name": "stdout",
          "text": [
            "vowels {'a', 'i'}\n"
          ]
        }
      ]
    }
  ]
}