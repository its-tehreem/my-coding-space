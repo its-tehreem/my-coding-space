{
  "nbformat": 4,
  "nbformat_minor": 0,
  "metadata": {
    "colab": {
      "provenance": []
    },
    "kernelspec": {
      "name": "python3",
      "display_name": "Python 3"
    },
    "language_info": {
      "name": "python"
    }
  },
  "cells": [
    {
      "cell_type": "code",
      "source": [
        "a=\"Tehreem\"\n",
        "for character in a:\n",
        "  print(character)"
      ],
      "metadata": {
        "colab": {
          "base_uri": "https://localhost:8080/"
        },
        "id": "ol69JvsA9rxp",
        "outputId": "727e4fc9-5b44-49ca-e56c-821811c52617"
      },
      "execution_count": null,
      "outputs": [
        {
          "output_type": "stream",
          "name": "stdout",
          "text": [
            "T\n",
            "e\n",
            "h\n",
            "r\n",
            "e\n",
            "e\n",
            "m\n"
          ]
        }
      ]
    },
    {
      "cell_type": "code",
      "execution_count": null,
      "metadata": {
        "colab": {
          "base_uri": "https://localhost:8080/"
        },
        "id": "H1y_ryUr8Hpe",
        "outputId": "3ec69b41-9096-4503-f68c-1bb307783b44"
      },
      "outputs": [
        {
          "output_type": "stream",
          "name": "stdout",
          "text": [
            "Tehree\n"
          ]
        }
      ],
      "source": [
        "name=\"Tehreem\"\n",
        "print(name[0:6])"
      ]
    },
    {
      "cell_type": "code",
      "source": [
        "num=20\n",
        "result=num+10\n",
        "print(result)"
      ],
      "metadata": {
        "colab": {
          "base_uri": "https://localhost:8080/"
        },
        "id": "5mFGVIT5-JQ-",
        "outputId": "3bf9dbae-0abe-4d26-cdbf-3805a55d8ec9"
      },
      "execution_count": null,
      "outputs": [
        {
          "output_type": "stream",
          "name": "stdout",
          "text": [
            "30\n"
          ]
        }
      ]
    },
    {
      "cell_type": "code",
      "source": [
        "str_list=[\"10\",\"20\",\"30\",]\n",
        "int_list=[int(item) for item in str_list]\n",
        "print(int_list)\n"
      ],
      "metadata": {
        "colab": {
          "base_uri": "https://localhost:8080/"
        },
        "id": "EbTqQmQt_67M",
        "outputId": "8ec29cea-c401-485c-94af-9a7a7be2159e"
      },
      "execution_count": null,
      "outputs": [
        {
          "output_type": "stream",
          "name": "stdout",
          "text": [
            "[10, 20, 30]\n"
          ]
        }
      ]
    },
    {
      "cell_type": "code",
      "source": [
        "msg=\"l am learning python\"\n",
        "if \"python\" in msg:\n",
        "  print(\"python is in the string!\")\n",
        "else:\n",
        "  print(\"python is not in the string.\")"
      ],
      "metadata": {
        "colab": {
          "base_uri": "https://localhost:8080/"
        },
        "id": "Rxst2ac1MGI3",
        "outputId": "9f4e6750-4c4a-4f07-862b-4f69ba809461"
      },
      "execution_count": null,
      "outputs": [
        {
          "output_type": "stream",
          "name": "stdout",
          "text": [
            "python is in the string!\n"
          ]
        }
      ]
    },
    {
      "cell_type": "code",
      "source": [
        "a=\"hello world\"\n",
        "print(\"Uppercase\",  a.upper())\n",
        "print(\"Lowercase\", a.lower())\n",
        "print(\"Titlecase\", a.title())"
      ],
      "metadata": {
        "colab": {
          "base_uri": "https://localhost:8080/"
        },
        "id": "o97ULK13OuNv",
        "outputId": "5a1923e2-99da-48ae-b994-6099a6e495a8"
      },
      "execution_count": null,
      "outputs": [
        {
          "output_type": "stream",
          "name": "stdout",
          "text": [
            "Uppercase HELLO WORLD\n",
            "Lowercase hello world\n",
            "Titlecase Hello World\n"
          ]
        }
      ]
    },
    {
      "cell_type": "code",
      "source": [
        "a=\"122\"\n",
        "print(type(a))\n",
        "b=int(a)\n",
        "print(type(b))"
      ],
      "metadata": {
        "colab": {
          "base_uri": "https://localhost:8080/"
        },
        "id": "apXWwSUmQyBt",
        "outputId": "0bdd7e83-d8d2-4cfc-f780-1b1820cd4905"
      },
      "execution_count": null,
      "outputs": [
        {
          "output_type": "stream",
          "name": "stdout",
          "text": [
            "<class 'str'>\n",
            "<class 'int'>\n"
          ]
        }
      ]
    },
    {
      "cell_type": "code",
      "source": [
        "\n",
        "name=\"Tehreem\"\n",
        "age=20\n",
        "if age >=18:\n",
        "  print(name, \"eligible hai\")\n",
        "else:\n",
        "  print(age, \"eligible nhi h\")"
      ],
      "metadata": {
        "colab": {
          "base_uri": "https://localhost:8080/"
        },
        "id": "TGo-n6jHRdX2",
        "outputId": "9e97ce7b-a7a4-4601-85fd-ed4ea90988b9"
      },
      "execution_count": null,
      "outputs": [
        {
          "output_type": "stream",
          "name": "stdout",
          "text": [
            "Tehreem eligible hai\n"
          ]
        }
      ]
    },
    {
      "cell_type": "code",
      "source": [
        "name=\"Tehreem\"\n",
        "print(name.isupper())"
      ],
      "metadata": {
        "colab": {
          "base_uri": "https://localhost:8080/"
        },
        "id": "7dt00yKnUiAH",
        "outputId": "ecff9c9b-9af4-46b0-8703-a08d8d6e3aaf"
      },
      "execution_count": null,
      "outputs": [
        {
          "output_type": "stream",
          "name": "stdout",
          "text": [
            "False\n"
          ]
        }
      ]
    },
    {
      "cell_type": "code",
      "source": [
        "num_str=\"123.22\"\n",
        "num_float=float(num_str)\n",
        "num_int=int(num_float)\n",
        "print(\"string\", num_str,type(num_str))\n",
        "print(\"converted to float\", num_float,type(num_float))\n",
        "print(\"converted to float\", num_int,type(num_int))"
      ],
      "metadata": {
        "colab": {
          "base_uri": "https://localhost:8080/"
        },
        "id": "FdTD4eH_VTyr",
        "outputId": "ab047a34-b895-48da-d9e1-da6c03eb0e89"
      },
      "execution_count": null,
      "outputs": [
        {
          "output_type": "stream",
          "name": "stdout",
          "text": [
            "string 123.22 <class 'str'>\n",
            "converted to float 123.22 <class 'float'>\n",
            "converted to float 123 <class 'int'>\n"
          ]
        }
      ]
    }
  ]
}