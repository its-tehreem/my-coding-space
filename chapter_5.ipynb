{
  "nbformat": 4,
  "nbformat_minor": 0,
  "metadata": {
    "colab": {
      "provenance": []
    },
    "kernelspec": {
      "name": "python3",
      "display_name": "Python 3"
    },
    "language_info": {
      "name": "python"
    }
  },
  "cells": [
    {
      "cell_type": "markdown",
      "source": [
        "1:Write a program to check if nmbr is positive,negative or zero?"
      ],
      "metadata": {
        "id": "C_yqQkFx_TTx"
      }
    },
    {
      "cell_type": "code",
      "execution_count": null,
      "metadata": {
        "colab": {
          "base_uri": "https://localhost:8080/"
        },
        "id": "x4K162El_SQK",
        "outputId": "58a66dcd-5b22-4069-c7f2-71a344450965"
      },
      "outputs": [
        {
          "output_type": "stream",
          "name": "stdout",
          "text": [
            "10.310\n",
            "positive number\n"
          ]
        }
      ],
      "source": [
        "num=float(input(10.3))\n",
        "if num>0:\n",
        "  print(\"positive number\")\n",
        "elif num<0:\n",
        "  print(\"negative number\")\n",
        "else:\n",
        "  print(\"zero\")"
      ]
    },
    {
      "cell_type": "markdown",
      "source": [
        "2:Input a number and print whether it is even or odd?"
      ],
      "metadata": {
        "id": "cgUkJ9QqAgJy"
      }
    },
    {
      "cell_type": "code",
      "source": [
        "num=int(input(20))\n",
        "if num % 2 ==0:\n",
        "  print(\"even number\")\n",
        "else:\n",
        "    print(\"odd number\")"
      ],
      "metadata": {
        "colab": {
          "base_uri": "https://localhost:8080/"
        },
        "id": "DxxzBQWpAu70",
        "outputId": "75951337-33c3-48d9-a28b-09625d14576c"
      },
      "execution_count": null,
      "outputs": [
        {
          "output_type": "stream",
          "name": "stdout",
          "text": [
            "2010\n",
            "even number\n"
          ]
        }
      ]
    },
    {
      "cell_type": "markdown",
      "source": [
        "3:Ask age and print if person is eligible to vote?"
      ],
      "metadata": {
        "id": "OrevjtGoBsJk"
      }
    },
    {
      "cell_type": "code",
      "source": [
        "\n",
        "year=int(input(2005))\n",
        "current_year=2025\n",
        "age=current_year-year\n",
        "if age>18:\n",
        "  print('eligible to vote')\n",
        "else:\n",
        "  print('not eligible to vote')"
      ],
      "metadata": {
        "colab": {
          "base_uri": "https://localhost:8080/"
        },
        "id": "wTxjtW-yDIRL",
        "outputId": "895d4efc-23cd-422c-ac05-f7b9cae973c4"
      },
      "execution_count": null,
      "outputs": [
        {
          "output_type": "stream",
          "name": "stdout",
          "text": [
            "2005 20\n",
            "eligible to vote\n"
          ]
        }
      ]
    },
    {
      "cell_type": "markdown",
      "source": [
        "4:Check if a number is divisible by 3 , 5, or both?"
      ],
      "metadata": {
        "id": "PKywkhEMFCAy"
      }
    },
    {
      "cell_type": "code",
      "source": [
        "num=int(input(15))\n",
        "if num % 3 ==0 and num % 5 ==0:\n",
        "  print('divisible by both 3 and 5')\n",
        "elif num % 3 ==0:\n",
        "    print('divisible by 3')\n",
        "elif num % 5 ==0:\n",
        "    print ('divisible by 5')\n",
        "else:\n",
        "    print('not divisible by 3 or 5')"
      ],
      "metadata": {
        "colab": {
          "base_uri": "https://localhost:8080/"
        },
        "id": "1nFlt3oJFQsQ",
        "outputId": "45f5352b-77a8-4cbf-c075-61e58fb22f5a"
      },
      "execution_count": null,
      "outputs": [
        {
          "output_type": "stream",
          "name": "stdout",
          "text": [
            "15 2\n",
            "not divisible by 3 or 5\n"
          ]
        }
      ]
    },
    {
      "cell_type": "markdown",
      "source": [
        "5:Input marks and print grade using if , elif , else"
      ],
      "metadata": {
        "id": "ojQZ9xB1G1us"
      }
    },
    {
      "cell_type": "code",
      "source": [
        "marks=float(input(99.9))\n",
        "if marks>90:\n",
        "  print('grade A')\n",
        "elif marks>80:\n",
        "    print('grade B')\n",
        "elif marks>70:\n",
        "      print('grade C')\n",
        "elif marks>60:\n",
        "        print('grade D')\n",
        "else:\n",
        "    print('grade E')"
      ],
      "metadata": {
        "colab": {
          "base_uri": "https://localhost:8080/"
        },
        "id": "IYWVb8K7HG2W",
        "outputId": "9f63fb4f-28d8-44bf-e2bd-537924b3cee9"
      },
      "execution_count": null,
      "outputs": [
        {
          "output_type": "stream",
          "name": "stdout",
          "text": [
            "99.9 99\n",
            "grade A\n"
          ]
        }
      ]
    },
    {
      "cell_type": "markdown",
      "source": [
        "6:Print numbers from 1 to 10 using a loop"
      ],
      "metadata": {
        "id": "D-HyV8VWIaWe"
      }
    },
    {
      "cell_type": "code",
      "source": [
        "for i in range(1,11):\n",
        "    print(i)"
      ],
      "metadata": {
        "colab": {
          "base_uri": "https://localhost:8080/"
        },
        "id": "aSm8IRqeIolo",
        "outputId": "ccbe48a5-9ed2-4e15-ba2d-eaefff5772a8"
      },
      "execution_count": null,
      "outputs": [
        {
          "output_type": "stream",
          "name": "stdout",
          "text": [
            "1\n",
            "2\n",
            "3\n",
            "4\n",
            "5\n",
            "6\n",
            "7\n",
            "8\n",
            "9\n",
            "10\n"
          ]
        }
      ]
    },
    {
      "cell_type": "markdown",
      "source": [
        "7:Print the multiplication table of 6"
      ],
      "metadata": {
        "id": "kXufmgpLI83w"
      }
    },
    {
      "cell_type": "code",
      "source": [
        "for i in range(1,11):\n",
        "   print(f\"6 x {i} = {6 * i}\")"
      ],
      "metadata": {
        "colab": {
          "base_uri": "https://localhost:8080/"
        },
        "id": "sCqn4wjOJIAO",
        "outputId": "041335da-b18a-4848-e75b-01b1f74088a8"
      },
      "execution_count": null,
      "outputs": [
        {
          "output_type": "stream",
          "name": "stdout",
          "text": [
            "6 x 1 = 6\n",
            "6 x 2 = 12\n",
            "6 x 3 = 18\n",
            "6 x 4 = 24\n",
            "6 x 5 = 30\n",
            "6 x 6 = 36\n",
            "6 x 7 = 42\n",
            "6 x 8 = 48\n",
            "6 x 9 = 54\n",
            "6 x 10 = 60\n"
          ]
        }
      ]
    },
    {
      "cell_type": "markdown",
      "source": [
        "8:Use a loop to print all even numbera between 1 and 20"
      ],
      "metadata": {
        "id": "JXCrcqUmJ5ll"
      }
    },
    {
      "cell_type": "code",
      "source": [
        "total=0\n",
        "for i in range(1,21):\n",
        "    total += i\n",
        "    print(\"the sum of numbers from 1 to 20 is:\",total)"
      ],
      "metadata": {
        "colab": {
          "base_uri": "https://localhost:8080/"
        },
        "id": "tST3Kpu1KIoX",
        "outputId": "a81d6c3c-e4c2-4208-da8e-6152753de468"
      },
      "execution_count": null,
      "outputs": [
        {
          "output_type": "stream",
          "name": "stdout",
          "text": [
            "the sum of numbers from 1 to 20 is: 1\n",
            "the sum of numbers from 1 to 20 is: 3\n",
            "the sum of numbers from 1 to 20 is: 6\n",
            "the sum of numbers from 1 to 20 is: 10\n",
            "the sum of numbers from 1 to 20 is: 15\n",
            "the sum of numbers from 1 to 20 is: 21\n",
            "the sum of numbers from 1 to 20 is: 28\n",
            "the sum of numbers from 1 to 20 is: 36\n",
            "the sum of numbers from 1 to 20 is: 45\n",
            "the sum of numbers from 1 to 20 is: 55\n",
            "the sum of numbers from 1 to 20 is: 66\n",
            "the sum of numbers from 1 to 20 is: 78\n",
            "the sum of numbers from 1 to 20 is: 91\n",
            "the sum of numbers from 1 to 20 is: 105\n",
            "the sum of numbers from 1 to 20 is: 120\n",
            "the sum of numbers from 1 to 20 is: 136\n",
            "the sum of numbers from 1 to 20 is: 153\n",
            "the sum of numbers from 1 to 20 is: 171\n",
            "the sum of numbers from 1 to 20 is: 190\n",
            "the sum of numbers from 1 to 20 is: 210\n"
          ]
        }
      ]
    },
    {
      "cell_type": "markdown",
      "source": [
        "9:Ask for a word and print each letter on a new line"
      ],
      "metadata": {
        "id": "p1aZeHBrLynE"
      }
    },
    {
      "cell_type": "code",
      "source": [
        "num=int(input(44))\n",
        "factorial = 1\n",
        "for i in range(1 , num + 1):\n",
        "    factorial *= i\n",
        "print(f\"the factorial of {num} is {factorial}\")"
      ],
      "metadata": {
        "colab": {
          "base_uri": "https://localhost:8080/"
        },
        "id": "ciOlxSdjMHlP",
        "outputId": "542b58c7-69ca-472d-95ab-8aecd7306f4a"
      },
      "execution_count": null,
      "outputs": [
        {
          "output_type": "stream",
          "name": "stdout",
          "text": [
            "44 4\n",
            "the factorial of 4 is 24\n"
          ]
        }
      ]
    },
    {
      "cell_type": "markdown",
      "source": [
        "10:Count how many vowels are in the word education"
      ],
      "metadata": {
        "id": "c5Ctx7-iM7MA"
      }
    },
    {
      "cell_type": "code",
      "source": [
        "word=\"education\"\n",
        "vowels=\"a,e,i,o,u\"\n",
        "count=0\n",
        "for letter in word:\n",
        "  if letter in vowels:\n",
        "    count += 1\n",
        "print(\"numbers of vowels:\" , count)"
      ],
      "metadata": {
        "colab": {
          "base_uri": "https://localhost:8080/"
        },
        "id": "BvzRjC54NIdN",
        "outputId": "243b0f8b-b5a2-492c-86d5-bb9318568ee4"
      },
      "execution_count": null,
      "outputs": [
        {
          "output_type": "stream",
          "name": "stdout",
          "text": [
            "numbers of vowels: 5\n"
          ]
        }
      ]
    }
  ]
}