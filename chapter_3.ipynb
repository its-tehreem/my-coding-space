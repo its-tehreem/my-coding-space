{
  "nbformat": 4,
  "nbformat_minor": 0,
  "metadata": {
    "colab": {
      "provenance": []
    },
    "kernelspec": {
      "name": "python3",
      "display_name": "Python 3"
    },
    "language_info": {
      "name": "python"
    }
  },
  "cells": [
    {
      "cell_type": "markdown",
      "source": [
        "1:Create variables a=15 and b=4.Perform and print all arithmetic operations?"
      ],
      "metadata": {
        "id": "LGrknHuSRfdz"
      }
    },
    {
      "cell_type": "code",
      "source": [
        "a=15\n",
        "b=4\n",
        "print(\"Addition:\",a+b)\n",
        "print(\"Substraction:\",a-b)\n",
        "print(\"multiplication:\",a*b)\n",
        "print(\"division:\",a/b)\n",
        "print(\"Modlus:\",a%b)\n",
        "print(\"Exponent:\",a**b)"
      ],
      "metadata": {
        "colab": {
          "base_uri": "https://localhost:8080/"
        },
        "id": "U45LR_UKT-MM",
        "outputId": "fb628f6b-34af-43f5-9f2e-0f2c9a77ff34"
      },
      "execution_count": null,
      "outputs": [
        {
          "output_type": "stream",
          "name": "stdout",
          "text": [
            "Addition: 19\n",
            "Substraction: 11\n",
            "multiplication: 60\n",
            "division: 3.75\n",
            "Modlus: 3\n",
            "Exponent: 50625\n"
          ]
        }
      ]
    },
    {
      "cell_type": "markdown",
      "source": [
        "2:Use comparison operators to compare a and b and print results?"
      ],
      "metadata": {
        "id": "n4UeHfNRR9lS"
      }
    },
    {
      "cell_type": "code",
      "source": [
        "a=12\n",
        "b=10\n",
        "print(\"a>b:\",a>b)\n",
        "print(\"a<b:\",a<b)\n",
        "print(\"a==b:\",a==b)\n",
        "print(\"a!=b:\",a!=b)\n",
        "print(\"a>=b:\",a>=b)\n",
        "print(\"a<=b:\",a<=b)"
      ],
      "metadata": {
        "colab": {
          "base_uri": "https://localhost:8080/"
        },
        "id": "6azjLOGgXimx",
        "outputId": "3ab0ec7b-ee7b-400a-9731-a5d94e002f61"
      },
      "execution_count": null,
      "outputs": [
        {
          "output_type": "stream",
          "name": "stdout",
          "text": [
            "a>b: True\n",
            "a<b: False\n",
            "a==b: False\n",
            "a!=b: True\n",
            "a>=b: True\n",
            "a<=b: False\n"
          ]
        }
      ]
    },
    {
      "cell_type": "markdown",
      "source": [
        "3:Create boolean variables x=True,y=False.Perform logical operations and print outcomes?"
      ],
      "metadata": {
        "id": "sqi6n5_bSYsH"
      }
    },
    {
      "cell_type": "code",
      "source": [
        "x=True\n",
        "y=False\n",
        "print(\"x and y:\",x and y)\n",
        "print(\"x or y:\",x or y)\n",
        "print(\"not x:\",not x)"
      ],
      "metadata": {
        "colab": {
          "base_uri": "https://localhost:8080/"
        },
        "id": "KdoZEGBGSYFw",
        "outputId": "8fc4e0d4-11df-4221-af64-51d929a49245"
      },
      "execution_count": null,
      "outputs": [
        {
          "output_type": "stream",
          "name": "stdout",
          "text": [
            "x and y: False\n",
            "x or y: True\n",
            "not x: False\n"
          ]
        }
      ]
    },
    {
      "cell_type": "markdown",
      "source": [
        "4:Use assignment operators (+=,-=,*=,etc.)on a variable and print updated values?"
      ],
      "metadata": {
        "id": "LdCxrQwyT_Bz"
      }
    },
    {
      "cell_type": "code",
      "source": [
        "\n",
        "num=10\n",
        "num+=5\n",
        "print(\"after +=:\",num)\n",
        "num-=3\n",
        "print(\"after -=:\",num)\n",
        "num*=2\n",
        "print(\"after *=:\",num)"
      ],
      "metadata": {
        "colab": {
          "base_uri": "https://localhost:8080/"
        },
        "id": "fFghx35OUhLR",
        "outputId": "2326481a-a3b3-4017-ac21-d112ff4a0cba"
      },
      "execution_count": null,
      "outputs": [
        {
          "output_type": "stream",
          "name": "stdout",
          "text": [
            "after +=: 15\n",
            "after -=: 12\n",
            "after *=: 24\n"
          ]
        }
      ]
    },
    {
      "cell_type": "markdown",
      "source": [
        "5:Use is and is not opreators with two equal values?"
      ],
      "metadata": {
        "id": "HkhZWzC1UvVn"
      }
    },
    {
      "cell_type": "code",
      "execution_count": null,
      "metadata": {
        "colab": {
          "base_uri": "https://localhost:8080/"
        },
        "id": "i9yA_ihNRUVl",
        "outputId": "1938e25d-8729-4ec3-81d4-b4fc5d116fd9"
      },
      "outputs": [
        {
          "output_type": "stream",
          "name": "stdout",
          "text": [
            "x is y: True\n",
            "x is not y: False\n"
          ]
        }
      ],
      "source": [
        "x=5\n",
        "y=5\n",
        "print(\"x is y:\",x is y)\n",
        "print(\"x is not y:\",x is not y)"
      ]
    },
    {
      "cell_type": "markdown",
      "source": [
        "6:Check the presence of words using in and not in operators in a string?"
      ],
      "metadata": {
        "id": "yrKEz-nmUw3V"
      }
    },
    {
      "cell_type": "code",
      "source": [
        "sentence=\"python is easy to learn\"\n",
        "print(\"easy in sentence\")\n",
        "print(\"hard not in sentence\")"
      ],
      "metadata": {
        "colab": {
          "base_uri": "https://localhost:8080/"
        },
        "id": "_YAoNjWmU3Bb",
        "outputId": "b3a43b89-a826-4426-ec3d-258d49bf5c83"
      },
      "execution_count": null,
      "outputs": [
        {
          "output_type": "stream",
          "name": "stdout",
          "text": [
            "easy in sentence\n",
            "hard not in sentence\n"
          ]
        }
      ]
    },
    {
      "cell_type": "markdown",
      "source": [
        "7:Import the keyword module and print all python keywords?"
      ],
      "metadata": {
        "id": "H-D3uDLAUxPd"
      }
    },
    {
      "cell_type": "code",
      "source": [
        "#importing the keyword module\n",
        "import keyword\n",
        "#printing all python keywords\n",
        "print(\"python keywords are:\")\n",
        "print(keyword.kwlist)\n",
        "#printing the total number of keywords\n",
        "print(\"Total number of keywords:\",len(keyword.kwlist))\n",
        "\n"
      ],
      "metadata": {
        "colab": {
          "base_uri": "https://localhost:8080/"
        },
        "id": "C1fCrr0LU2L0",
        "outputId": "efbfa990-08f8-494f-ce69-0310e71c27a7"
      },
      "execution_count": null,
      "outputs": [
        {
          "output_type": "stream",
          "name": "stdout",
          "text": [
            "python keywords are:\n",
            "['False', 'None', 'True', 'and', 'as', 'assert', 'async', 'await', 'break', 'class', 'continue', 'def', 'del', 'elif', 'else', 'except', 'finally', 'for', 'from', 'global', 'if', 'import', 'in', 'is', 'lambda', 'nonlocal', 'not', 'or', 'pass', 'raise', 'return', 'try', 'while', 'with', 'yield']\n",
            "Total number of keywords: 35\n"
          ]
        }
      ]
    },
    {
      "cell_type": "markdown",
      "source": [
        "8:Declare variables name , age , height , and print their values with types?"
      ],
      "metadata": {
        "id": "kVPPxsULUz1W"
      }
    },
    {
      "cell_type": "code",
      "source": [
        "name=\"Tehreem\"\n",
        "age=20\n",
        "Height=5.3\n",
        "print(\"name:\", name , (type))\n",
        "print(\"age:\", age , (type))\n",
        "print(\"Height:\" , Height , (type))"
      ],
      "metadata": {
        "colab": {
          "base_uri": "https://localhost:8080/"
        },
        "id": "n2seiHkfU2XT",
        "outputId": "d5416fc1-18b5-4f34-8f90-a2b102fabc35"
      },
      "execution_count": null,
      "outputs": [
        {
          "output_type": "stream",
          "name": "stdout",
          "text": [
            "name: Tehreem <class 'type'>\n",
            "age: 20 <class 'type'>\n",
            "Height: 5.3 <class 'type'>\n"
          ]
        }
      ]
    },
    {
      "cell_type": "markdown",
      "source": [
        "9:Write 5 valid and 3 invalid names (with comments)?"
      ],
      "metadata": {
        "id": "ejaAhGXlU1gH"
      }
    },
    {
      "cell_type": "code",
      "source": [
        "2name=\"tehreem\"\n",
        "my-name=\"tehreem\"\n",
        "1class=python"
      ],
      "metadata": {
        "colab": {
          "base_uri": "https://localhost:8080/",
          "height": 106
        },
        "id": "aRW8UGlOU2ix",
        "outputId": "ed84db2d-f014-4b51-a870-feedbe958ae5"
      },
      "execution_count": null,
      "outputs": [
        {
          "output_type": "error",
          "ename": "SyntaxError",
          "evalue": "invalid decimal literal (ipython-input-27-1581840842.py, line 1)",
          "traceback": [
            "\u001b[0;36m  File \u001b[0;32m\"/tmp/ipython-input-27-1581840842.py\"\u001b[0;36m, line \u001b[0;32m1\u001b[0m\n\u001b[0;31m    2name=\"tehreem\"\u001b[0m\n\u001b[0m    ^\u001b[0m\n\u001b[0;31mSyntaxError\u001b[0m\u001b[0;31m:\u001b[0m invalid decimal literal\n"
          ]
        }
      ]
    },
    {
      "cell_type": "markdown",
      "source": [
        "10:Assign multiple values in one line and use type () and id () to inspect them?"
      ],
      "metadata": {
        "id": "le7k_qOvU1v3"
      }
    },
    {
      "cell_type": "code",
      "source": [
        "x=2\n",
        "y=5\n",
        "z=\"hello\"\n",
        "print(type(x) , id(x))\n",
        "print(type(y) , id(y))\n",
        "print(type(z) , id(z))"
      ],
      "metadata": {
        "colab": {
          "base_uri": "https://localhost:8080/"
        },
        "id": "bEAtDslgU2x3",
        "outputId": "a540483d-e2fb-4571-9658-807b092e7b8c"
      },
      "execution_count": null,
      "outputs": [
        {
          "output_type": "stream",
          "name": "stdout",
          "text": [
            "<class 'int'> 10757768\n",
            "<class 'int'> 10757864\n",
            "<class 'str'> 137603706198320\n"
          ]
        }
      ]
    }
  ]
}