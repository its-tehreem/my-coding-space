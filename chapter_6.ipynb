{
  "nbformat": 4,
  "nbformat_minor": 0,
  "metadata": {
    "colab": {
      "provenance": []
    },
    "kernelspec": {
      "name": "python3",
      "display_name": "Python 3"
    },
    "language_info": {
      "name": "python"
    }
  },
  "cells": [
    {
      "cell_type": "markdown",
      "source": [
        "Create a list 5 favorite fruits and print each using a loop:"
      ],
      "metadata": {
        "id": "FkTg7vzTFDyw"
      }
    },
    {
      "cell_type": "code",
      "execution_count": 1,
      "metadata": {
        "colab": {
          "base_uri": "https://localhost:8080/"
        },
        "id": "b5Lh3prhFCKI",
        "outputId": "0266ee73-0e65-4342-c59c-7ac0f3b6d8be"
      },
      "outputs": [
        {
          "output_type": "stream",
          "name": "stdout",
          "text": [
            "Favorite Fruits:\n",
            "Mango\n",
            "Apple\n",
            "Grapes\n",
            "Banana\n",
            "Orange\n"
          ]
        }
      ],
      "source": [
        "fruits=[\"Mango\", \"Apple\", \"Grapes\", \"Banana\", \"Orange\"]\n",
        "print(\"Favorite Fruits:\")\n",
        "for fruit in fruits:\n",
        "    print(fruit)"
      ]
    },
    {
      "cell_type": "markdown",
      "source": [
        "Create a tuple with three items: name, age, city:"
      ],
      "metadata": {
        "id": "el92dk0RGLh5"
      }
    },
    {
      "cell_type": "code",
      "source": [
        "person=(\"Tehreem\", 20, \"gujranwala\")\n",
        "print(\"\\nTuple Data\")\n",
        "print(\"name\", person[0])\n",
        "print(\"Age\", person[1])\n",
        "print(\"City\", person[2])"
      ],
      "metadata": {
        "colab": {
          "base_uri": "https://localhost:8080/"
        },
        "id": "tbCWCccKGl5q",
        "outputId": "ef141bc9-0470-46be-ebb2-81bdafd545d3"
      },
      "execution_count": 3,
      "outputs": [
        {
          "output_type": "stream",
          "name": "stdout",
          "text": [
            "\n",
            "Tuple Data\n",
            "name Tehreem\n",
            "Age 20\n",
            "City gujranwala\n"
          ]
        }
      ]
    },
    {
      "cell_type": "markdown",
      "source": [
        "Make a dictionary with student name, class, and score. print keys and values:"
      ],
      "metadata": {
        "id": "qOTd1RiZH2dM"
      }
    },
    {
      "cell_type": "code",
      "source": [
        "\n",
        "student={\"Name\": \"Ayesha\", \"Class\":  \"9th\",\"Score\" :  98}\n",
        "print(\"\\nDictionary Data:\")\n",
        "for key, value in student.items():\n",
        "   print(key, \":\", value)\n"
      ],
      "metadata": {
        "colab": {
          "base_uri": "https://localhost:8080/"
        },
        "id": "xtBFb0WVIKOb",
        "outputId": "a5f298f9-ddd9-4ead-b854-c396af1c7b5f"
      },
      "execution_count": 10,
      "outputs": [
        {
          "output_type": "stream",
          "name": "stdout",
          "text": [
            "\n",
            "Dictionary Data:\n",
            "Name : Ayesha\n",
            "Class : 9th\n",
            "Score : 98\n"
          ]
        }
      ]
    },
    {
      "cell_type": "markdown",
      "source": [
        "Update the list by adding and removing items:"
      ],
      "metadata": {
        "id": "hnJqil-aKSDC"
      }
    },
    {
      "cell_type": "code",
      "source": [
        "fruits=[\"Apple\", \"banana\", \"Mango\", \"Grapes\", \"Orange\"]\n",
        "fruits.append(\"Pineapple\")#adding new fruit\n",
        "fruits.remove(\"Apple\")#removing a fruit\n",
        "print(\"\\nUpdated fruits list\", fruits)"
      ],
      "metadata": {
        "colab": {
          "base_uri": "https://localhost:8080/"
        },
        "id": "GDUSyA6qKi9j",
        "outputId": "f4a45f66-9b0b-4ca2-dd6e-d199b4a5e727"
      },
      "execution_count": 21,
      "outputs": [
        {
          "output_type": "stream",
          "name": "stdout",
          "text": [
            "\n",
            "Updated fruits list ['banana', 'Mango', 'Grapes', 'Orange', 'Pineapple']\n"
          ]
        }
      ]
    },
    {
      "cell_type": "markdown",
      "source": [
        "Use a loop to count items in the list and print using len():"
      ],
      "metadata": {
        "id": "3f5QCh-3M4Kb"
      }
    },
    {
      "cell_type": "code",
      "source": [
        "fruits=[\"Apple\", \"Mango\", \"Banana\", \"Grapes\", \"Orange\"]\n",
        "print(\"Fruits  List\", fruits)\n",
        "count=0\n",
        "for item in fruits:\n",
        "  count+=1\n",
        "print(\"Numbers of fruits using loop:\", count)\n",
        "print(\"Numbers of fruits using len():\", len(fruits))"
      ],
      "metadata": {
        "colab": {
          "base_uri": "https://localhost:8080/"
        },
        "id": "U2HqSchVNKCk",
        "outputId": "b15921f9-d4da-4eaf-c8b3-e4b5d56aa78d"
      },
      "execution_count": 22,
      "outputs": [
        {
          "output_type": "stream",
          "name": "stdout",
          "text": [
            "Fruits  List ['Apple', 'Mango', 'Banana', 'Grapes', 'Orange']\n",
            "Numbers of fruits using loop: 5\n",
            "Numbers of fruits using len(): 5\n"
          ]
        }
      ]
    },
    {
      "cell_type": "markdown",
      "source": [
        "Check if a value exists in a tuple using in keyword:"
      ],
      "metadata": {
        "id": "UEa0AgUQO2Pd"
      }
    },
    {
      "cell_type": "code",
      "source": [
        "from ast import In\n",
        "person=(\"Tehreem\", 20, \"Gujranwala\")\n",
        "print(\"Tuple\", person)\n",
        "if \"Tehreem\" in person:\n",
        "  print(\"Tehreem is in the tuple\")\n",
        "else:\n",
        "    print(\"Tehreem is not in the tuple\")\n",
        "if 20 in person:\n",
        "  print(\"20 is in the tuple\")\n",
        "else:\n",
        "  print(\"20 is not in the tuple\")\n",
        "if \"Gujranwala\" in person:\n",
        "  print(\"Gujranwala is in the tuple\")\n",
        "else:\n",
        "  print(\"Gujranwala is not in the tuple\" )"
      ],
      "metadata": {
        "colab": {
          "base_uri": "https://localhost:8080/"
        },
        "id": "4NYOeHdvPI8A",
        "outputId": "3c7effc0-1977-4716-e988-10028dd8237e"
      },
      "execution_count": 29,
      "outputs": [
        {
          "output_type": "stream",
          "name": "stdout",
          "text": [
            "Tuple ('Tehreem', 20, 'Gujranwala')\n",
            "Tehreem is in the tuple\n",
            "20 is in the tuple\n",
            "Gujranwala is in the tuple\n"
          ]
        }
      ]
    }
  ]
}