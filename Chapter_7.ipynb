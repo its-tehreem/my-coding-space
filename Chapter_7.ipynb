{
  "nbformat": 4,
  "nbformat_minor": 0,
  "metadata": {
    "colab": {
      "provenance": []
    },
    "kernelspec": {
      "name": "python3",
      "display_name": "Python 3"
    },
    "language_info": {
      "name": "python"
    }
  },
  "cells": [
    {
      "cell_type": "code",
      "source": [
        "# Q1: Create a set of 5 fruits and print it\n",
        "fruits = {\"apple\", \"banana\", \"mango\", \"orange\", \"grapes\"}\n",
        "print(\"Original set of fruits:\", fruits)\n"
      ],
      "metadata": {
        "colab": {
          "base_uri": "https://localhost:8080/"
        },
        "id": "UE9HnnaJz32a",
        "outputId": "6b0dbd72-9622-4db8-d15f-02e468d8d23d"
      },
      "execution_count": null,
      "outputs": [
        {
          "output_type": "stream",
          "name": "stdout",
          "text": [
            "Original set of fruits: {'apple', 'mango', 'grapes', 'banana', 'orange'}\n"
          ]
        }
      ]
    },
    {
      "cell_type": "code",
      "source": [
        "# Q2: Add one new fruit to your set\n",
        "fruits={\"apple\", \"banana\", \"mango\", \"orange\", \"grapes\"}\n",
        "fruits.add(\"pineapple\")\n",
        "print(\"After adding pineapple:\", fruits)"
      ],
      "metadata": {
        "colab": {
          "base_uri": "https://localhost:8080/"
        },
        "id": "h8o7iz3c5s9j",
        "outputId": "15343e77-135d-4628-c56f-baf7e185c026"
      },
      "execution_count": 3,
      "outputs": [
        {
          "output_type": "stream",
          "name": "stdout",
          "text": [
            "After adding pineapple: {'pineapple', 'banana', 'mango', 'grapes', 'orange', 'apple'}\n"
          ]
        }
      ]
    },
    {
      "cell_type": "code",
      "source": [
        "# Q3: Remove fruit using .remove()\n",
        "# Note: If fruit not in set → ERROR\n",
        "fruits.remove(\"banana\")\n",
        "print(\"After removing banana:\", fruits)\n"
      ],
      "metadata": {
        "colab": {
          "base_uri": "https://localhost:8080/"
        },
        "id": "_pBtEhJC6VBQ",
        "outputId": "6ba6e253-29f5-43ee-ddaa-473b313afabf"
      },
      "execution_count": 4,
      "outputs": [
        {
          "output_type": "stream",
          "name": "stdout",
          "text": [
            "After removing banana: {'pineapple', 'mango', 'grapes', 'orange', 'apple'}\n"
          ]
        }
      ]
    },
    {
      "cell_type": "code",
      "source": [
        "# Q4: Remove fruit using .discard()\n",
        "# Note: If fruit not in set → NO ERROR\n",
        "fruits.discard(\"mango\")\n",
        "print(\"After discarding mango:\", fruits)\n"
      ],
      "metadata": {
        "colab": {
          "base_uri": "https://localhost:8080/"
        },
        "id": "SzDb9v-U6cuo",
        "outputId": "b40978d5-da5a-48c1-e43e-03e503567e05"
      },
      "execution_count": 5,
      "outputs": [
        {
          "output_type": "stream",
          "name": "stdout",
          "text": [
            "After discarding mango: {'pineapple', 'grapes', 'orange', 'apple'}\n"
          ]
        }
      ]
    },
    {
      "cell_type": "code",
      "source": [
        "# Q5: Remove an arbitrary item using .pop()\n",
        "removed_item = fruits.pop()\n",
        "print(\"Removed item:\", removed_item)\n",
        "print(\"Set after pop():\", fruits)\n"
      ],
      "metadata": {
        "colab": {
          "base_uri": "https://localhost:8080/"
        },
        "id": "8dP9ZipL6h2F",
        "outputId": "366dfbf2-196a-49df-ea68-71645c25efac"
      },
      "execution_count": 6,
      "outputs": [
        {
          "output_type": "stream",
          "name": "stdout",
          "text": [
            "Removed item: pineapple\n",
            "Set after pop(): {'grapes', 'orange', 'apple'}\n"
          ]
        }
      ]
    },
    {
      "cell_type": "code",
      "source": [
        "# Q6: Clear all items\n",
        "fruits.clear()\n",
        "print(\"After clear(), set is:\", fruits)\n"
      ],
      "metadata": {
        "colab": {
          "base_uri": "https://localhost:8080/"
        },
        "id": "75WnL4Yb6rv-",
        "outputId": "6b29d5a7-85e1-4994-dff8-35c53c840b48"
      },
      "execution_count": 7,
      "outputs": [
        {
          "output_type": "stream",
          "name": "stdout",
          "text": [
            "After clear(), set is: set()\n"
          ]
        }
      ]
    },
    {
      "cell_type": "code",
      "source": [
        "# Q7: Set operations\n",
        "A = {1, 2, 3, 4, 5}\n",
        "B = {4, 5, 6, 7, 8}\n",
        "\n",
        "print(\"Union:\", A.union(B))\n",
        "print(\"Intersection:\", A.intersection(B))\n",
        "print(\"Difference A - B:\", A.difference(B))\n",
        "print(\"Difference B - A:\", B.difference(A))\n",
        "print(\"Symmetric Difference:\", A.symmetric_difference(B))\n"
      ],
      "metadata": {
        "colab": {
          "base_uri": "https://localhost:8080/"
        },
        "id": "ioWnBYRD6-mk",
        "outputId": "d51a3e52-823e-4d7f-ce07-120915fa5585"
      },
      "execution_count": 8,
      "outputs": [
        {
          "output_type": "stream",
          "name": "stdout",
          "text": [
            "Union: {1, 2, 3, 4, 5, 6, 7, 8}\n",
            "Intersection: {4, 5}\n",
            "Difference A - B: {1, 2, 3}\n",
            "Difference B - A: {8, 6, 7}\n",
            "Symmetric Difference: {1, 2, 3, 6, 7, 8}\n"
          ]
        }
      ]
    },
    {
      "cell_type": "code",
      "source": [
        "# Q8: Subset and Superset\n",
        "X = {1, 2}\n",
        "Y = {1, 2, 3, 4}\n",
        "\n",
        "print(\"Is X subset of Y?\", X.issubset(Y))\n",
        "print(\"Is Y superset of X?\", Y.issuperset(X))\n"
      ],
      "metadata": {
        "colab": {
          "base_uri": "https://localhost:8080/"
        },
        "id": "6RDpD7i574T0",
        "outputId": "78fd2551-ea40-4ea8-a79f-c93a948006ba"
      },
      "execution_count": 10,
      "outputs": [
        {
          "output_type": "stream",
          "name": "stdout",
          "text": [
            "Is X subset of Y? True\n",
            "Is Y superset of X? True\n"
          ]
        }
      ]
    },
    {
      "cell_type": "code",
      "source": [
        "# Q9: Frozenset example (immutable set)\n",
        "vowels = frozenset({\"a\", \"e\", \"i\", \"o\", \"u\"})\n",
        "print(\"Frozenset of vowels:\", vowels)\n",
        "\n",
        "# Uncomment below line to see immutability error\n",
        "# vowels.add(\"y\")  # ❌ ERROR: frozenset has no attribute 'add'\n"
      ],
      "metadata": {
        "colab": {
          "base_uri": "https://localhost:8080/"
        },
        "id": "A-O6ypBI8C2z",
        "outputId": "c734e1c9-768e-4e70-98c5-3aa62e03aee5"
      },
      "execution_count": 11,
      "outputs": [
        {
          "output_type": "stream",
          "name": "stdout",
          "text": [
            "Frozenset of vowels: frozenset({'e', 'u', 'i', 'a', 'o'})\n"
          ]
        }
      ]
    },
    {
      "cell_type": "code",
      "source": [
        "# Q10: Membership test\n",
        "vowels = {\"a\", \"e\", \"i\", \"o\", \"u\"}\n",
        "user_char = input(\"Enter a single character: \")\n",
        "\n",
        "if user_char in vowels:\n",
        "    print(f\"'{user_char}' is a vowel ✅\")\n",
        "else:\n",
        "    print(f\"'{user_char}' is not a vowel ❌\")\n"
      ],
      "metadata": {
        "colab": {
          "base_uri": "https://localhost:8080/"
        },
        "id": "dCPJ7Wxt8SY6",
        "outputId": "8c390cce-c73b-44f3-c4b2-c0e2b705de01"
      },
      "execution_count": 12,
      "outputs": [
        {
          "output_type": "stream",
          "name": "stdout",
          "text": [
            "Enter a single character: e\n",
            "'e' is a vowel ✅\n"
          ]
        }
      ]
    }
  ]
}